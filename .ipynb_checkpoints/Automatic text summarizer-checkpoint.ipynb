{
 "cells": [
  {
   "cell_type": "markdown",
   "id": "1b46cc9a",
   "metadata": {},
   "source": [
    "# Automatic Text Summarization"
   ]
  },
  {
   "cell_type": "markdown",
   "id": "81a391d5",
   "metadata": {},
   "source": [
    "Summarization refers to the task of creating a short summary that captures the main ideas\n",
    "of an input text. For my project, we focus on abstractive summarization, which generates\n",
    "the summary through paraphrase. By comparison, extractive summarization works by\n",
    "extracting only words found in the input. Models for abstractive summarization fall under a larger deep learning category called\n",
    "sequence-to-sequence models, which map from an input sequence to a target sequence\n"
   ]
  },
  {
   "cell_type": "markdown",
   "id": "e8673678",
   "metadata": {},
   "source": [
    "## Dataset"
   ]
  },
  {
   "cell_type": "markdown",
   "id": "ef7cd3de",
   "metadata": {},
   "source": [
    "We trained our model on new summary dataset here is the [link](https://www.kaggle.com/datasets/sunnysai12345/news-summary). It has two files. One has 4100+ examples another one has 90,000+ examples to train along with labels. We trained our model to predict the headline given the first sentence."
   ]
  },
  {
   "cell_type": "markdown",
   "id": "c4c3c193",
   "metadata": {},
   "source": [
    "## Import the packages"
   ]
  },
  {
   "cell_type": "code",
   "execution_count": 1,
   "id": "fb3b7110",
   "metadata": {},
   "outputs": [],
   "source": [
    "import tensorflow as tf\n",
    "import tensorflow.keras\n",
    "import pandas as pd\n",
    "import re\n",
    "import numpy as np\n",
    "import string\n",
    "import matplotlib.pyplot as plt"
   ]
  },
  {
   "cell_type": "markdown",
   "id": "66027a19",
   "metadata": {},
   "source": [
    "## Load the data"
   ]
  },
  {
   "cell_type": "code",
   "execution_count": 2,
   "id": "9e5a505e",
   "metadata": {},
   "outputs": [],
   "source": [
    "df1 = pd.read_csv(r\"C:\\Users\\Sai Pavan Vulasi\\Desktop\\text_dataset\\news_summary.csv\",encoding='iso-8859-1',usecols=['headlines','text'])\n",
    "df2 = pd.read_csv(r\"C:\\Users\\Sai Pavan Vulasi\\Desktop\\text_dataset\\news_summary_more.csv\",encoding='iso-8859-1')"
   ]
  },
  {
   "cell_type": "code",
   "execution_count": 3,
   "id": "413d6ec2",
   "metadata": {},
   "outputs": [
    {
     "data": {
      "text/html": [
       "<div>\n",
       "<style scoped>\n",
       "    .dataframe tbody tr th:only-of-type {\n",
       "        vertical-align: middle;\n",
       "    }\n",
       "\n",
       "    .dataframe tbody tr th {\n",
       "        vertical-align: top;\n",
       "    }\n",
       "\n",
       "    .dataframe thead th {\n",
       "        text-align: right;\n",
       "    }\n",
       "</style>\n",
       "<table border=\"1\" class=\"dataframe\">\n",
       "  <thead>\n",
       "    <tr style=\"text-align: right;\">\n",
       "      <th></th>\n",
       "      <th>headlines</th>\n",
       "      <th>text</th>\n",
       "    </tr>\n",
       "  </thead>\n",
       "  <tbody>\n",
       "    <tr>\n",
       "      <th>0</th>\n",
       "      <td>Daman &amp; Diu revokes mandatory Rakshabandhan in...</td>\n",
       "      <td>The Administration of Union Territory Daman an...</td>\n",
       "    </tr>\n",
       "    <tr>\n",
       "      <th>1</th>\n",
       "      <td>Malaika slams user who trolled her for 'divorc...</td>\n",
       "      <td>Malaika Arora slammed an Instagram user who tr...</td>\n",
       "    </tr>\n",
       "    <tr>\n",
       "      <th>2</th>\n",
       "      <td>'Virgin' now corrected to 'Unmarried' in IGIMS...</td>\n",
       "      <td>The Indira Gandhi Institute of Medical Science...</td>\n",
       "    </tr>\n",
       "    <tr>\n",
       "      <th>3</th>\n",
       "      <td>Aaj aapne pakad liya: LeT man Dujana before be...</td>\n",
       "      <td>Lashkar-e-Taiba's Kashmir commander Abu Dujana...</td>\n",
       "    </tr>\n",
       "    <tr>\n",
       "      <th>4</th>\n",
       "      <td>Hotel staff to get training to spot signs of s...</td>\n",
       "      <td>Hotels in Maharashtra will train their staff t...</td>\n",
       "    </tr>\n",
       "  </tbody>\n",
       "</table>\n",
       "</div>"
      ],
      "text/plain": [
       "                                           headlines                                               text\n",
       "0  Daman & Diu revokes mandatory Rakshabandhan in...  The Administration of Union Territory Daman an...\n",
       "1  Malaika slams user who trolled her for 'divorc...  Malaika Arora slammed an Instagram user who tr...\n",
       "2  'Virgin' now corrected to 'Unmarried' in IGIMS...  The Indira Gandhi Institute of Medical Science...\n",
       "3  Aaj aapne pakad liya: LeT man Dujana before be...  Lashkar-e-Taiba's Kashmir commander Abu Dujana...\n",
       "4  Hotel staff to get training to spot signs of s...  Hotels in Maharashtra will train their staff t..."
      ]
     },
     "execution_count": 3,
     "metadata": {},
     "output_type": "execute_result"
    }
   ],
   "source": [
    "df1.head()"
   ]
  },
  {
   "cell_type": "code",
   "execution_count": 4,
   "id": "44443515",
   "metadata": {},
   "outputs": [
    {
     "data": {
      "text/plain": [
       "(4514, 2)"
      ]
     },
     "execution_count": 4,
     "metadata": {},
     "output_type": "execute_result"
    }
   ],
   "source": [
    "df1.shape"
   ]
  },
  {
   "cell_type": "code",
   "execution_count": 5,
   "id": "00b1b126",
   "metadata": {},
   "outputs": [
    {
     "data": {
      "text/html": [
       "<div>\n",
       "<style scoped>\n",
       "    .dataframe tbody tr th:only-of-type {\n",
       "        vertical-align: middle;\n",
       "    }\n",
       "\n",
       "    .dataframe tbody tr th {\n",
       "        vertical-align: top;\n",
       "    }\n",
       "\n",
       "    .dataframe thead th {\n",
       "        text-align: right;\n",
       "    }\n",
       "</style>\n",
       "<table border=\"1\" class=\"dataframe\">\n",
       "  <thead>\n",
       "    <tr style=\"text-align: right;\">\n",
       "      <th></th>\n",
       "      <th>headlines</th>\n",
       "      <th>text</th>\n",
       "    </tr>\n",
       "  </thead>\n",
       "  <tbody>\n",
       "    <tr>\n",
       "      <th>0</th>\n",
       "      <td>upGrad learner switches to career in ML &amp; Al w...</td>\n",
       "      <td>Saurav Kant, an alumnus of upGrad and IIIT-B's...</td>\n",
       "    </tr>\n",
       "    <tr>\n",
       "      <th>1</th>\n",
       "      <td>Delhi techie wins free food from Swiggy for on...</td>\n",
       "      <td>Kunal Shah's credit card bill payment platform...</td>\n",
       "    </tr>\n",
       "    <tr>\n",
       "      <th>2</th>\n",
       "      <td>New Zealand end Rohit Sharma-led India's 12-ma...</td>\n",
       "      <td>New Zealand defeated India by 8 wickets in the...</td>\n",
       "    </tr>\n",
       "    <tr>\n",
       "      <th>3</th>\n",
       "      <td>Aegon life iTerm insurance plan helps customer...</td>\n",
       "      <td>With Aegon Life iTerm Insurance plan, customer...</td>\n",
       "    </tr>\n",
       "    <tr>\n",
       "      <th>4</th>\n",
       "      <td>Have known Hirani for yrs, what if MeToo claim...</td>\n",
       "      <td>Speaking about the sexual harassment allegatio...</td>\n",
       "    </tr>\n",
       "  </tbody>\n",
       "</table>\n",
       "</div>"
      ],
      "text/plain": [
       "                                           headlines                                               text\n",
       "0  upGrad learner switches to career in ML & Al w...  Saurav Kant, an alumnus of upGrad and IIIT-B's...\n",
       "1  Delhi techie wins free food from Swiggy for on...  Kunal Shah's credit card bill payment platform...\n",
       "2  New Zealand end Rohit Sharma-led India's 12-ma...  New Zealand defeated India by 8 wickets in the...\n",
       "3  Aegon life iTerm insurance plan helps customer...  With Aegon Life iTerm Insurance plan, customer...\n",
       "4  Have known Hirani for yrs, what if MeToo claim...  Speaking about the sexual harassment allegatio..."
      ]
     },
     "execution_count": 5,
     "metadata": {},
     "output_type": "execute_result"
    }
   ],
   "source": [
    "df2.head()"
   ]
  },
  {
   "cell_type": "code",
   "execution_count": 6,
   "id": "cdfbacd0",
   "metadata": {},
   "outputs": [
    {
     "data": {
      "text/plain": [
       "(98401, 2)"
      ]
     },
     "execution_count": 6,
     "metadata": {},
     "output_type": "execute_result"
    }
   ],
   "source": [
    "df2.shape"
   ]
  },
  {
   "cell_type": "markdown",
   "id": "2efd6c87",
   "metadata": {},
   "source": [
    "## Data Preprocessing"
   ]
  },
  {
   "cell_type": "markdown",
   "id": "2c3815a7",
   "metadata": {},
   "source": [
    "The aim of the preprocessing step is to reduce the\n",
    "dimensionality of the representation space, and it normally includes: (i) stop-word\n",
    "elimination – common words with no semantics and which do not aggregate relevant\n",
    "information to the task (e.g., “the”, “a”) are eliminated;; (ii) case folding: consists of\n",
    "converting all the characters to the same kind of letter case - either upper case or\n",
    "lower case; (iii) stemming: syntactically-similar words, such as plurals, verbal\n",
    "variations, etc. are considered similar; the purpose of this procedure is to obtain the\n",
    "stem or radix of each word, which emphasize its semantics. "
   ]
  },
  {
   "cell_type": "code",
   "execution_count": 7,
   "id": "a7ae0028",
   "metadata": {},
   "outputs": [
    {
     "data": {
      "text/html": [
       "<div>\n",
       "<style scoped>\n",
       "    .dataframe tbody tr th:only-of-type {\n",
       "        vertical-align: middle;\n",
       "    }\n",
       "\n",
       "    .dataframe tbody tr th {\n",
       "        vertical-align: top;\n",
       "    }\n",
       "\n",
       "    .dataframe thead th {\n",
       "        text-align: right;\n",
       "    }\n",
       "</style>\n",
       "<table border=\"1\" class=\"dataframe\">\n",
       "  <thead>\n",
       "    <tr style=\"text-align: right;\">\n",
       "      <th></th>\n",
       "      <th>headlines</th>\n",
       "      <th>text</th>\n",
       "    </tr>\n",
       "  </thead>\n",
       "  <tbody>\n",
       "    <tr>\n",
       "      <th>0</th>\n",
       "      <td>Daman &amp; Diu revokes mandatory Rakshabandhan in...</td>\n",
       "      <td>The Administration of Union Territory Daman an...</td>\n",
       "    </tr>\n",
       "    <tr>\n",
       "      <th>1</th>\n",
       "      <td>Malaika slams user who trolled her for 'divorc...</td>\n",
       "      <td>Malaika Arora slammed an Instagram user who tr...</td>\n",
       "    </tr>\n",
       "    <tr>\n",
       "      <th>2</th>\n",
       "      <td>'Virgin' now corrected to 'Unmarried' in IGIMS...</td>\n",
       "      <td>The Indira Gandhi Institute of Medical Science...</td>\n",
       "    </tr>\n",
       "    <tr>\n",
       "      <th>3</th>\n",
       "      <td>Aaj aapne pakad liya: LeT man Dujana before be...</td>\n",
       "      <td>Lashkar-e-Taiba's Kashmir commander Abu Dujana...</td>\n",
       "    </tr>\n",
       "    <tr>\n",
       "      <th>4</th>\n",
       "      <td>Hotel staff to get training to spot signs of s...</td>\n",
       "      <td>Hotels in Maharashtra will train their staff t...</td>\n",
       "    </tr>\n",
       "  </tbody>\n",
       "</table>\n",
       "</div>"
      ],
      "text/plain": [
       "                                           headlines                                               text\n",
       "0  Daman & Diu revokes mandatory Rakshabandhan in...  The Administration of Union Territory Daman an...\n",
       "1  Malaika slams user who trolled her for 'divorc...  Malaika Arora slammed an Instagram user who tr...\n",
       "2  'Virgin' now corrected to 'Unmarried' in IGIMS...  The Indira Gandhi Institute of Medical Science...\n",
       "3  Aaj aapne pakad liya: LeT man Dujana before be...  Lashkar-e-Taiba's Kashmir commander Abu Dujana...\n",
       "4  Hotel staff to get training to spot signs of s...  Hotels in Maharashtra will train their staff t..."
      ]
     },
     "execution_count": 7,
     "metadata": {},
     "output_type": "execute_result"
    }
   ],
   "source": [
    "#concatenate two dataframes to get total data\n",
    "df = pd.concat([df1,df2],axis=0,ignore_index=True)\n",
    "df.head()"
   ]
  },
  {
   "cell_type": "code",
   "execution_count": 8,
   "id": "d71d0170",
   "metadata": {},
   "outputs": [
    {
     "data": {
      "text/plain": [
       "(102915, 2)"
      ]
     },
     "execution_count": 8,
     "metadata": {},
     "output_type": "execute_result"
    }
   ],
   "source": [
    "df.shape"
   ]
  },
  {
   "cell_type": "code",
   "execution_count": 9,
   "id": "8324b2c6",
   "metadata": {},
   "outputs": [],
   "source": [
    "# drop duplicates and null values\n",
    "df.dropna(inplace=True)\n",
    "df.drop_duplicates(inplace=True)"
   ]
  },
  {
   "cell_type": "code",
   "execution_count": 10,
   "id": "f1c8949d",
   "metadata": {},
   "outputs": [
    {
     "data": {
      "text/plain": [
       "(100266, 2)"
      ]
     },
     "execution_count": 10,
     "metadata": {},
     "output_type": "execute_result"
    }
   ],
   "source": [
    "df.shape"
   ]
  },
  {
   "cell_type": "code",
   "execution_count": 11,
   "id": "1b4c656a",
   "metadata": {},
   "outputs": [
    {
     "name": "stdout",
     "output_type": "stream",
     "text": [
      "Dataset size : 100266\n"
     ]
    }
   ],
   "source": [
    "print(f'Dataset size : {df.shape[0]}')"
   ]
  },
  {
   "cell_type": "code",
   "execution_count": 12,
   "id": "13cf5a98",
   "metadata": {},
   "outputs": [],
   "source": [
    "# text cleaning\n",
    "\n",
    "def cleantext(text):\n",
    "    text = str(text)\n",
    "    text=text.split()\n",
    "    words=[]\n",
    "    for t in text:\n",
    "        if t.isalpha():\n",
    "            words.append(t)\n",
    "    text=\" \".join(words)\n",
    "    text=text.lower()\n",
    "    text=re.sub(r\"what's\",\"what is \",text)\n",
    "    text=re.sub(r\"it's\",\"it is \",text)\n",
    "    text=re.sub(r\"\\'ve\",\" have \",text)\n",
    "    text=re.sub(r\"i'm\",\"i am \",text)\n",
    "    text=re.sub(r\"\\'re\",\" are \",text)\n",
    "    text=re.sub(r\"n't\",\" not \",text)\n",
    "    text=re.sub(r\"\\'d\",\" would \",text)\n",
    "    text=re.sub(r\"\\'s\",\"s\",text)\n",
    "    text=re.sub(r\"\\'ll\",\" will \",text)\n",
    "    text=re.sub(r\"can't\",\" cannot \",text)\n",
    "    text=re.sub(r\" e g \",\" eg \",text)\n",
    "    text=re.sub(r\"e-mail\",\"email\",text)\n",
    "    text=re.sub(r\"9\\\\/11\",\" 911 \",text)\n",
    "    text=re.sub(r\" u.s\",\" american \",text)\n",
    "    text=re.sub(r\" u.n\",\" united nations \",text)\n",
    "    text=re.sub(r\"\\n\",\" \",text)\n",
    "    text=re.sub(r\":\",\" \",text)\n",
    "    text=re.sub(r\"-\",\" \",text)\n",
    "    text=re.sub(r\"\\_\",\" \",text)\n",
    "    text=re.sub(r\"\\d+\",\" \",text)\n",
    "    text=re.sub(r\"[$#@%&*!~?%{}()]\",\" \",text)\n",
    "\n",
    "    return text"
   ]
  },
  {
   "cell_type": "code",
   "execution_count": 13,
   "id": "2d96dbc9",
   "metadata": {},
   "outputs": [],
   "source": [
    "for col in df.columns:\n",
    "    df[col] = df[col].apply(lambda x: cleantext(x))"
   ]
  },
  {
   "cell_type": "code",
   "execution_count": 14,
   "id": "be8f477a",
   "metadata": {},
   "outputs": [
    {
     "data": {
      "text/html": [
       "<div>\n",
       "<style scoped>\n",
       "    .dataframe tbody tr th:only-of-type {\n",
       "        vertical-align: middle;\n",
       "    }\n",
       "\n",
       "    .dataframe tbody tr th {\n",
       "        vertical-align: top;\n",
       "    }\n",
       "\n",
       "    .dataframe thead th {\n",
       "        text-align: right;\n",
       "    }\n",
       "</style>\n",
       "<table border=\"1\" class=\"dataframe\">\n",
       "  <thead>\n",
       "    <tr style=\"text-align: right;\">\n",
       "      <th></th>\n",
       "      <th>headlines</th>\n",
       "      <th>text</th>\n",
       "    </tr>\n",
       "  </thead>\n",
       "  <tbody>\n",
       "    <tr>\n",
       "      <th>0</th>\n",
       "      <td>daman diu revokes mandatory rakshabandhan in o...</td>\n",
       "      <td>the administration of union territory daman an...</td>\n",
       "    </tr>\n",
       "    <tr>\n",
       "      <th>1</th>\n",
       "      <td>malaika slams user who trolled her for rich</td>\n",
       "      <td>malaika arora slammed an instagram user who tr...</td>\n",
       "    </tr>\n",
       "    <tr>\n",
       "      <th>2</th>\n",
       "      <td>now corrected to in form</td>\n",
       "      <td>the indira gandhi institute of medical science...</td>\n",
       "    </tr>\n",
       "    <tr>\n",
       "      <th>3</th>\n",
       "      <td>aaj aapne pakad let man dujana before being ki...</td>\n",
       "      <td>kashmir commander abu who was killed by securi...</td>\n",
       "    </tr>\n",
       "    <tr>\n",
       "      <th>4</th>\n",
       "      <td>hotel staff to get training to spot signs of s...</td>\n",
       "      <td>hotels in maharashtra will train their staff t...</td>\n",
       "    </tr>\n",
       "  </tbody>\n",
       "</table>\n",
       "</div>"
      ],
      "text/plain": [
       "                                           headlines                                               text\n",
       "0  daman diu revokes mandatory rakshabandhan in o...  the administration of union territory daman an...\n",
       "1        malaika slams user who trolled her for rich  malaika arora slammed an instagram user who tr...\n",
       "2                           now corrected to in form  the indira gandhi institute of medical science...\n",
       "3  aaj aapne pakad let man dujana before being ki...  kashmir commander abu who was killed by securi...\n",
       "4  hotel staff to get training to spot signs of s...  hotels in maharashtra will train their staff t..."
      ]
     },
     "execution_count": 14,
     "metadata": {},
     "output_type": "execute_result"
    }
   ],
   "source": [
    "df.head()"
   ]
  },
  {
   "cell_type": "code",
   "execution_count": 15,
   "id": "928db258",
   "metadata": {},
   "outputs": [],
   "source": [
    "data = pd.DataFrame()\n",
    "data['text'] = df['text']\n",
    "data['summary'] = df['headlines']"
   ]
  },
  {
   "cell_type": "markdown",
   "id": "4f7c8330",
   "metadata": {},
   "source": [
    "Remember to add the START and END special tokens at the beginning and end of the summary. Here, I have chosen sostok and eostok as START and END tokens. The beginning-of-sentence token serves as an instruction to the decoder to start decoding (it needs a very first state to predict what the next first token is). The end-of-sentence token is an instruction for the decoding algorithm to stop generating more tokens"
   ]
  },
  {
   "cell_type": "markdown",
   "id": "177724a5",
   "metadata": {},
   "source": [
    "## Understanding distribution of sequences"
   ]
  },
  {
   "cell_type": "markdown",
   "id": "d9c09d22",
   "metadata": {},
   "source": [
    "Here, we will analyze the length of the reviews and the summary to get an overall idea about the distribution of length of the text. This will help us fix the maximum length of the sequence:"
   ]
  },
  {
   "cell_type": "code",
   "execution_count": 16,
   "id": "230b60d4",
   "metadata": {},
   "outputs": [
    {
     "name": "stdout",
     "output_type": "stream",
     "text": [
      "0.9999900265294317\n"
     ]
    }
   ],
   "source": [
    "text_count = 0\n",
    "for text in data['text']:\n",
    "    if len(text.split())<60:\n",
    "        text_count += 1\n",
    "print(text_count/len(data['text']))"
   ]
  },
  {
   "cell_type": "code",
   "execution_count": 17,
   "id": "3de49ace",
   "metadata": {},
   "outputs": [
    {
     "name": "stdout",
     "output_type": "stream",
     "text": [
      "0.9999601061177269\n"
     ]
    }
   ],
   "source": [
    "summary_count = 0\n",
    "for summary in data['summary']:\n",
    "    if len(summary.split())<15:\n",
    "        summary_count+=1\n",
    "print(summary_count/len(data['summary']))"
   ]
  },
  {
   "cell_type": "code",
   "execution_count": 18,
   "id": "f3126cac",
   "metadata": {},
   "outputs": [
    {
     "data": {
      "image/png": "[encoded data removed]",
      "text/plain": [
       "<Figure size 432x288 with 2 Axes>"
      ]
     },
     "metadata": {
      "needs_background": "light"
     },
     "output_type": "display_data"
    }
   ],
   "source": [
    "text_word_count = []\n",
    "summary_word_count = []\n",
    "\n",
    "# get number of words in text and summary\n",
    "\n",
    "for i in data['text']:\n",
    "    text_word_count.append(len(i.split()))\n",
    "    \n",
    "for i in data['summary']:\n",
    "    summary_word_count.append(len(str(i).split()))\n",
    "    \n",
    "length = pd.DataFrame()\n",
    "length['text'] = pd.Series(text_word_count)\n",
    "length['summary'] = pd.Series(summary_word_count)\n",
    "\n",
    "length.hist(bins=10)\n",
    "plt.show()"
   ]
  },
  {
   "cell_type": "code",
   "execution_count": 19,
   "id": "74bd91f9",
   "metadata": {},
   "outputs": [],
   "source": [
    "max_text_len=60\n",
    "max_summary_len=15"
   ]
  },
  {
   "cell_type": "code",
   "execution_count": 20,
   "id": "7de50c82",
   "metadata": {},
   "outputs": [],
   "source": [
    "\n",
    "text =np.array(data['text'])\n",
    "summary=np.array(data['summary'])\n",
    "\n",
    "short_text=[]\n",
    "short_summary=[]\n",
    "\n",
    "for i in range(len(text)):\n",
    "    if(len(str(summary[i]).split())<=max_summary_len and len(text[i].split())<=max_text_len):\n",
    "        short_text.append(text[i])\n",
    "        short_summary.append(summary[i])\n",
    "        \n",
    "df=pd.DataFrame({'text':short_text,'summary':short_summary})\n"
   ]
  },
  {
   "cell_type": "code",
   "execution_count": 21,
   "id": "bfdf4211",
   "metadata": {},
   "outputs": [],
   "source": [
    "df['summary'] = df['summary'].apply(lambda x : 'sostok '+ x + ' eostok')"
   ]
  },
  {
   "cell_type": "markdown",
   "id": "d04e5ed2",
   "metadata": {},
   "source": [
    "## Split the dataset"
   ]
  },
  {
   "cell_type": "code",
   "execution_count": 22,
   "id": "8187055c",
   "metadata": {},
   "outputs": [
    {
     "name": "stderr",
     "output_type": "stream",
     "text": [
      "D:\\Conda\\envs\\directml\\lib\\importlib\\_bootstrap.py:219: RuntimeWarning: numpy.ufunc size changed, may indicate binary incompatibility. Expected 192 from C header, got 216 from PyObject\n",
      "  return f(*args, **kwds)\n"
     ]
    }
   ],
   "source": [
    "from sklearn.model_selection import train_test_split\n",
    "x_tr,x_val,y_tr,y_val=train_test_split(np.array(df['text']),np.array(df['summary']),test_size=0.1,random_state=0,shuffle=True) "
   ]
  },
  {
   "cell_type": "markdown",
   "id": "96521441",
   "metadata": {},
   "source": [
    "## Tokenize: text_to_word_sequence"
   ]
  },
  {
   "cell_type": "code",
   "execution_count": 26,
   "id": "28735145",
   "metadata": {},
   "outputs": [],
   "source": [
    "from tensorflow.keras.preprocessing.text import Tokenizer \n",
    "from tensorflow.keras.preprocessing.sequence import pad_sequences\n",
    "\n",
    "#prepare a tokenizer for reviews on training data\n",
    "x_tokenizer = Tokenizer() \n",
    "x_tokenizer.fit_on_texts(list(x_tr))"
   ]
  },
  {
   "cell_type": "code",
   "execution_count": 27,
   "id": "26da2c75",
   "metadata": {},
   "outputs": [
    {
     "name": "stdout",
     "output_type": "stream",
     "text": [
      "% of rare words in vocabulary: 56.57998805546139\n",
      "Total Coverage of rare words: 1.1902033035582427\n"
     ]
    }
   ],
   "source": [
    "thresh=4\n",
    "\n",
    "cnt=0\n",
    "tot_cnt=0\n",
    "freq=0\n",
    "tot_freq=0\n",
    "\n",
    "for key,value in x_tokenizer.word_counts.items():\n",
    "    tot_cnt=tot_cnt+1\n",
    "    tot_freq=tot_freq+value\n",
    "    if(value<thresh):\n",
    "        cnt=cnt+1\n",
    "        freq=freq+value\n",
    "    \n",
    "print(\"% of rare words in vocabulary:\",(cnt/tot_cnt)*100)\n",
    "print(\"Total Coverage of rare words:\",(freq/tot_freq)*100)"
   ]
  },
  {
   "cell_type": "markdown",
   "id": "e77112b0",
   "metadata": {},
   "source": [
    "## Padding: pad_sequences"
   ]
  },
  {
   "cell_type": "markdown",
   "id": "5c89c241",
   "metadata": {},
   "source": [
    "Because input and output sequence lengths vary, we standardized all inputs to be some\n",
    "max length by padding short sentences with PAD tokens."
   ]
  },
  {
   "cell_type": "code",
   "execution_count": 28,
   "id": "2a2cf8b3",
   "metadata": {},
   "outputs": [],
   "source": [
    "#prepare a tokenizer for reviews on training data\n",
    "x_tokenizer = Tokenizer(num_words=tot_cnt-cnt) \n",
    "x_tokenizer.fit_on_texts(list(x_tr))\n",
    "\n",
    "#convert text sequences into integer sequences\n",
    "x_tr_seq    =   x_tokenizer.texts_to_sequences(x_tr) \n",
    "x_val_seq   =   x_tokenizer.texts_to_sequences(x_val)\n",
    "\n",
    "#padding zero upto maximum length\n",
    "x_tr    =   pad_sequences(x_tr_seq,  maxlen=max_text_len, padding='post')\n",
    "x_val   =   pad_sequences(x_val_seq, maxlen=max_text_len, padding='post')\n",
    "\n",
    "#size of vocabulary ( +1 for padding token)\n",
    "x_voc   =  x_tokenizer.num_words + 1"
   ]
  },
  {
   "cell_type": "code",
   "execution_count": 29,
   "id": "08fc31c1",
   "metadata": {},
   "outputs": [
    {
     "data": {
      "text/plain": [
       "26901"
      ]
     },
     "execution_count": 29,
     "metadata": {},
     "output_type": "execute_result"
    }
   ],
   "source": [
    "x_voc"
   ]
  },
  {
   "cell_type": "code",
   "execution_count": 30,
   "id": "e86bc86f",
   "metadata": {},
   "outputs": [],
   "source": [
    "#prepare a tokenizer for reviews on training data\n",
    "y_tokenizer = Tokenizer()   \n",
    "y_tokenizer.fit_on_texts(list(y_tr))"
   ]
  },
  {
   "cell_type": "code",
   "execution_count": 31,
   "id": "63703ff4",
   "metadata": {},
   "outputs": [
    {
     "name": "stdout",
     "output_type": "stream",
     "text": [
      "% of rare words in vocabulary: 55.537201701050854\n",
      "Total Coverage of rare words: 2.6054205341817265\n"
     ]
    }
   ],
   "source": [
    "thresh=4\n",
    "\n",
    "cnt=0\n",
    "tot_cnt=0\n",
    "freq=0\n",
    "tot_freq=0\n",
    "\n",
    "for key,value in y_tokenizer.word_counts.items():\n",
    "    tot_cnt=tot_cnt+1\n",
    "    tot_freq=tot_freq+value\n",
    "    if(value<thresh):\n",
    "        cnt=cnt+1\n",
    "        freq=freq+value\n",
    "    \n",
    "print(\"% of rare words in vocabulary:\",(cnt/tot_cnt)*100)\n",
    "print(\"Total Coverage of rare words:\",(freq/tot_freq)*100)"
   ]
  },
  {
   "cell_type": "code",
   "execution_count": 32,
   "id": "c85184cc",
   "metadata": {},
   "outputs": [],
   "source": [
    "#prepare a tokenizer for reviews on training data\n",
    "y_tokenizer = Tokenizer(num_words=tot_cnt-cnt) \n",
    "y_tokenizer.fit_on_texts(list(y_tr))\n",
    "\n",
    "#convert text sequences into integer sequences\n",
    "y_tr_seq    =   y_tokenizer.texts_to_sequences(y_tr) \n",
    "y_val_seq   =   y_tokenizer.texts_to_sequences(y_val) \n",
    "\n",
    "#padding zero upto maximum length\n",
    "y_tr    =   pad_sequences(y_tr_seq, maxlen=max_summary_len, padding='post')\n",
    "y_val   =   pad_sequences(y_val_seq, maxlen=max_summary_len, padding='post')\n",
    "\n",
    "#size of vocabulary\n",
    "y_voc  =   y_tokenizer.num_words +1"
   ]
  },
  {
   "cell_type": "code",
   "execution_count": 33,
   "id": "ac81b365",
   "metadata": {},
   "outputs": [
    {
     "data": {
      "text/plain": [
       "12652"
      ]
     },
     "execution_count": 33,
     "metadata": {},
     "output_type": "execute_result"
    }
   ],
   "source": [
    "y_voc"
   ]
  },
  {
   "cell_type": "markdown",
   "id": "f845e6b8",
   "metadata": {},
   "source": [
    "We are using a custom attention layer because keras does not officially support attention layers. We will use third-party implementation of custom attention layer taken from https://github.com/thushv89/attention_keras/blob/master/src/layers/attention.py , This implements Bahdanau Attention.\n",
    "For encoder-decoder neural networks, the use of attention allows for the creation\n",
    "of a context vector at each timestep, given the decoder’s current hidden state and a subset\n",
    "of the encoder’s hidden states."
   ]
  },
  {
   "cell_type": "code",
   "execution_count": 44,
   "id": "0f53f38b",
   "metadata": {},
   "outputs": [],
   "source": [
    "\n",
    "import tensorflow as tf\n",
    "from tensorflow.keras import backend as K\n",
    "\n",
    "logger = tf.get_logger()\n",
    "\n",
    "class AttentionLayer(tf.keras.layers.Layer):\n",
    "    \"\"\"\n",
    "    This class implements Bahdanau attention (https://arxiv.org/pdf/1409.0473.pdf).\n",
    "    There are three sets of weights introduced W_a, U_a, and V_a\n",
    "     \"\"\"\n",
    "\n",
    "    def __init__(self, **kwargs):\n",
    "        super(AttentionLayer, self).__init__(**kwargs)\n",
    "\n",
    "    def build(self, input_shape):\n",
    "        assert isinstance(input_shape, list)\n",
    "        # Create a trainable weight variable for this layer.\n",
    "\n",
    "        self.W_a = self.add_weight(name='W_a',\n",
    "                                   shape=tf.TensorShape((input_shape[0][2], input_shape[0][2])),\n",
    "                                   initializer='uniform',\n",
    "                                   trainable=True)\n",
    "        self.U_a = self.add_weight(name='U_a',\n",
    "                                   shape=tf.TensorShape((input_shape[1][2], input_shape[0][2])),\n",
    "                                   initializer='uniform',\n",
    "                                   trainable=True)\n",
    "        self.V_a = self.add_weight(name='V_a',\n",
    "                                   shape=tf.TensorShape((input_shape[0][2], 1)),\n",
    "                                   initializer='uniform',\n",
    "                                   trainable=True)\n",
    "\n",
    "        super(AttentionLayer, self).build(input_shape)  # Be sure to call this at the end\n",
    "\n",
    "    def call(self, inputs):\n",
    "        \"\"\"\n",
    "        inputs: [encoder_output_sequence, decoder_output_sequence]\n",
    "        \"\"\"\n",
    "        assert type(inputs) == list\n",
    "        encoder_out_seq, decoder_out_seq = inputs\n",
    "\n",
    "        logger.debug(f\"encoder_out_seq.shape = {encoder_out_seq.shape}\")\n",
    "        logger.debug(f\"decoder_out_seq.shape = {decoder_out_seq.shape}\")\n",
    "\n",
    "        def energy_step(inputs, states):\n",
    "            \"\"\" Step function for computing energy for a single decoder state\n",
    "            inputs: (batchsize * 1 * de_in_dim)\n",
    "            states: (batchsize * 1 * de_latent_dim)\n",
    "            \"\"\"\n",
    "\n",
    "            logger.debug(\"Running energy computation step\")\n",
    "\n",
    "            if not isinstance(states, (list, tuple)):\n",
    "                raise TypeError(f\"States must be an iterable. Got {states} of type {type(states)}\")\n",
    "\n",
    "            encoder_full_seq = states[-1]\n",
    "\n",
    "            \"\"\" Computing S.Wa where S=[s0, s1, ..., si]\"\"\"\n",
    "            # <= batch size * en_seq_len * latent_dim\n",
    "            W_a_dot_s = K.dot(encoder_full_seq, self.W_a)\n",
    "\n",
    "            \"\"\" Computing hj.Ua \"\"\"\n",
    "            U_a_dot_h = K.expand_dims(K.dot(inputs, self.U_a), 1)  # <= batch_size, 1, latent_dim\n",
    "\n",
    "            logger.debug(f\"U_a_dot_h.shape = {U_a_dot_h.shape}\")\n",
    "\n",
    "            \"\"\" tanh(S.Wa + hj.Ua) \"\"\"\n",
    "            # <= batch_size*en_seq_len, latent_dim\n",
    "            Ws_plus_Uh = K.tanh(W_a_dot_s + U_a_dot_h)\n",
    "\n",
    "            logger.debug(f\"Ws_plus_Uh.shape = {Ws_plus_Uh.shape}\")\n",
    "\n",
    "            \"\"\" softmax(va.tanh(S.Wa + hj.Ua)) \"\"\"\n",
    "            # <= batch_size, en_seq_len\n",
    "            e_i = K.squeeze(K.dot(Ws_plus_Uh, self.V_a), axis=-1)\n",
    "            # <= batch_size, en_seq_len\n",
    "            e_i = K.softmax(e_i)\n",
    "\n",
    "            logger.debug(f\"ei.shape = {e_i.shape}\")\n",
    "\n",
    "            return e_i, [e_i]\n",
    "\n",
    "        def context_step(inputs, states):\n",
    "            \"\"\" Step function for computing ci using ei \"\"\"\n",
    "\n",
    "            logger.debug(\"Running attention vector computation step\")\n",
    "\n",
    "            if not isinstance(states, (list, tuple)):\n",
    "                raise TypeError(f\"States must be an iterable. Got {states} of type {type(states)}\")\n",
    "\n",
    "            encoder_full_seq = states[-1]\n",
    "\n",
    "            # <= batch_size, hidden_size\n",
    "            c_i = K.sum(encoder_full_seq * K.expand_dims(inputs, -1), axis=1)\n",
    "\n",
    "            logger.debug(f\"ci.shape = {c_i.shape}\")\n",
    "\n",
    "            return c_i, [c_i]\n",
    "\n",
    "        # we don't maintain states between steps when computing attention\n",
    "        # attention is stateless, so we're passing a fake state for RNN step function\n",
    "        fake_state_c = K.sum(encoder_out_seq, axis=1)\n",
    "        fake_state_e = K.sum(encoder_out_seq, axis=2)  # <= (batch_size, enc_seq_len, latent_dim\n",
    "\n",
    "        \"\"\" Computing energy outputs \"\"\"\n",
    "        # e_outputs => (batch_size, de_seq_len, en_seq_len)\n",
    "        last_out, e_outputs, _ = K.rnn(\n",
    "            energy_step, decoder_out_seq, [fake_state_e], constants=[encoder_out_seq]\n",
    "        )\n",
    "\n",
    "        \"\"\" Computing context vectors \"\"\"\n",
    "        last_out, c_outputs, _ = K.rnn(\n",
    "            context_step, e_outputs, [fake_state_c], constants=[encoder_out_seq]\n",
    "        )\n",
    "\n",
    "        return c_outputs, e_outputs\n",
    "\n",
    "    def compute_output_shape(self, input_shape):\n",
    "        \"\"\" Outputs produced by the layer \"\"\"\n",
    "        return [\n",
    "            tf.TensorShape((input_shape[1][0], input_shape[1][1], input_shape[1][2])),\n",
    "            tf.TensorShape((input_shape[1][0], input_shape[1][1], input_shape[0][1]))\n",
    "            ]"
   ]
  },
  {
   "cell_type": "markdown",
   "id": "3f74dfb5",
   "metadata": {},
   "source": [
    "At training time, our model decoders take in article truth embeddings as input at each\n",
    "timestep. This allows the model to learn to output predictions given some inputs x, and\n",
    "prediction history context, yc. During testing, however, the model’s decoder feeds its\n",
    "output as a word embedding input into the next decoder cell. "
   ]
  },
  {
   "cell_type": "code",
   "execution_count": 50,
   "id": "622e86af",
   "metadata": {},
   "outputs": [
    {
     "name": "stdout",
     "output_type": "stream",
     "text": [
      "Model: \"model_6\"\n",
      "__________________________________________________________________________________________________\n",
      "Layer (type)                    Output Shape         Param #     Connected to                     \n",
      "==================================================================================================\n",
      "input_13 (InputLayer)           [(None, 60)]         0                                            \n",
      "__________________________________________________________________________________________________\n",
      "embedding_12 (Embedding)        (None, 60, 200)      5380200     input_13[0][0]                   \n",
      "__________________________________________________________________________________________________\n",
      "lstm_24 (LSTM)                  [(None, 60, 300), (N 601200      embedding_12[0][0]               \n",
      "__________________________________________________________________________________________________\n",
      "input_14 (InputLayer)           [(None, None)]       0                                            \n",
      "__________________________________________________________________________________________________\n",
      "lstm_25 (LSTM)                  [(None, 60, 300), (N 721200      lstm_24[0][0]                    \n",
      "__________________________________________________________________________________________________\n",
      "embedding_13 (Embedding)        (None, None, 200)    2530400     input_14[0][0]                   \n",
      "__________________________________________________________________________________________________\n",
      "lstm_26 (LSTM)                  [(None, 60, 300), (N 721200      lstm_25[0][0]                    \n",
      "__________________________________________________________________________________________________\n",
      "lstm_27 (LSTM)                  [(None, None, 300),  601200      embedding_13[0][0]               \n",
      "                                                                 lstm_26[0][1]                    \n",
      "                                                                 lstm_26[0][2]                    \n",
      "__________________________________________________________________________________________________\n",
      "attention_layer (AttentionLayer ((None, None, 300),  180300      lstm_26[0][0]                    \n",
      "                                                                 lstm_27[0][0]                    \n",
      "__________________________________________________________________________________________________\n",
      "concat_layer (Concatenate)      (None, None, 600)    0           lstm_27[0][0]                    \n",
      "                                                                 attention_layer[0][0]            \n",
      "__________________________________________________________________________________________________\n",
      "time_distributed_6 (TimeDistrib (None, None, 12652)  7603852     concat_layer[0][0]               \n",
      "==================================================================================================\n",
      "Total params: 18,339,552\n",
      "Trainable params: 18,339,552\n",
      "Non-trainable params: 0\n",
      "__________________________________________________________________________________________________\n"
     ]
    }
   ],
   "source": [
    "\n",
    "from tensorflow.keras.layers import Embedding,LSTM,Input,TimeDistributed,Dense,Concatenate\n",
    "from tensorflow.keras import Model\n",
    "from tensorflow.keras.callbacks import EarlyStopping\n",
    "\n",
    "latent_dim = 300\n",
    "embedding_dim= 200\n",
    "\n",
    "# Encoder\n",
    "encoder_inputs = Input(shape=(max_text_len,))\n",
    "\n",
    "#embedding layer\n",
    "enc_emb =  Embedding(x_voc, embedding_dim,trainable=True)(encoder_inputs)\n",
    "\n",
    "#encoder lstm 1\n",
    "encoder_lstm1 = LSTM(latent_dim,return_sequences=True,return_state=True,dropout=0.4,recurrent_dropout=0.4)\n",
    "encoder_output1, state_h1, state_c1 = encoder_lstm1(enc_emb)\n",
    "\n",
    "#encoder lstm 2\n",
    "encoder_lstm2 = LSTM(latent_dim,return_sequences=True,return_state=True,dropout=0.4,recurrent_dropout=0.4)\n",
    "encoder_output2, state_h2, state_c2 = encoder_lstm2(encoder_output1)\n",
    "\n",
    "#encoder lstm 3\n",
    "encoder_lstm3=LSTM(latent_dim, return_state=True, return_sequences=True,dropout=0.4,recurrent_dropout=0.4)\n",
    "encoder_outputs, state_h, state_c= encoder_lstm3(encoder_output2)\n",
    "\n",
    "# Set up the decoder, using `encoder_states` as initial state.\n",
    "decoder_inputs = Input(shape=(None,))\n",
    "\n",
    "#embedding layer\n",
    "dec_emb_layer = Embedding(y_voc, embedding_dim,trainable=True)\n",
    "dec_emb = dec_emb_layer(decoder_inputs)\n",
    "\n",
    "decoder_lstm = LSTM(latent_dim, return_sequences=True, return_state=True,dropout=0.4,recurrent_dropout=0.2)\n",
    "decoder_outputs,decoder_fwd_state, decoder_back_state = decoder_lstm(dec_emb,initial_state=[state_h, state_c])\n",
    "\n",
    "# Attention layer\n",
    "attn_layer = AttentionLayer(name='attention_layer')\n",
    "attn_out, attn_states = attn_layer([encoder_outputs, decoder_outputs])\n",
    "\n",
    "# Concat attention input and decoder LSTM output\n",
    "decoder_concat_input = Concatenate(axis=-1, name='concat_layer')([decoder_outputs, attn_out])\n",
    "\n",
    "#dense layer\n",
    "decoder_dense =  TimeDistributed(Dense(y_voc, activation='softmax'))\n",
    "decoder_outputs = decoder_dense(decoder_concat_input)\n",
    "\n",
    "# Define the model \n",
    "model = Model([encoder_inputs, decoder_inputs], decoder_outputs)\n",
    "\n",
    "model.summary()"
   ]
  },
  {
   "cell_type": "code",
   "execution_count": 53,
   "id": "a53b8d4b",
   "metadata": {},
   "outputs": [],
   "source": [
    "model.compile(optimizer='adam', loss='sparse_categorical_crossentropy',metrics=['accuracy'])"
   ]
  },
  {
   "cell_type": "code",
   "execution_count": 54,
   "id": "10cba72e",
   "metadata": {},
   "outputs": [],
   "source": [
    "es = EarlyStopping(monitor='val_loss', mode='min', verbose=1,patience=2)"
   ]
  },
  {
   "cell_type": "code",
   "execution_count": 55,
   "id": "6d0a8bc3",
   "metadata": {},
   "outputs": [
    {
     "name": "stdout",
     "output_type": "stream",
     "text": [
      "Train on 90239 samples, validate on 10027 samples\n",
      "Epoch 1/50\n",
      "90239/90239 [==============================] - 522s 6ms/sample - loss: 4.3398 - acc: 0.4487 - val_loss: 4.0127 - val_acc: 0.4690\n",
      "Epoch 2/50\n",
      "90239/90239 [==============================] - 529s 6ms/sample - loss: 3.8417 - acc: 0.4726 - val_loss: 3.5827 - val_acc: 0.4866\n",
      "Epoch 3/50\n",
      "90239/90239 [==============================] - 531s 6ms/sample - loss: 3.4435 - acc: 0.4916 - val_loss: 3.3079 - val_acc: 0.5037\n",
      "Epoch 4/50\n",
      "90239/90239 [==============================] - 532s 6ms/sample - loss: 3.1625 - acc: 0.5077 - val_loss: 3.1533 - val_acc: 0.5160\n",
      "Epoch 5/50\n",
      "90239/90239 [==============================] - 532s 6ms/sample - loss: 2.9445 - acc: 0.5208 - val_loss: 3.0454 - val_acc: 0.5245\n",
      "Epoch 6/50\n",
      "90239/90239 [==============================] - 533s 6ms/sample - loss: 2.7631 - acc: 0.5328 - val_loss: 2.9725 - val_acc: 0.5308\n",
      "Epoch 7/50\n",
      "90239/90239 [==============================] - 534s 6ms/sample - loss: 2.6086 - acc: 0.5438 - val_loss: 2.9209 - val_acc: 0.5372\n",
      "Epoch 8/50\n",
      "90239/90239 [==============================] - 534s 6ms/sample - loss: 2.4745 - acc: 0.5544 - val_loss: 2.8899 - val_acc: 0.5401\n",
      "Epoch 9/50\n",
      "90239/90239 [==============================] - 534s 6ms/sample - loss: 2.3555 - acc: 0.5655 - val_loss: 2.8645 - val_acc: 0.5432\n",
      "Epoch 10/50\n",
      "90239/90239 [==============================] - 533s 6ms/sample - loss: 2.2505 - acc: 0.5757 - val_loss: 2.8485 - val_acc: 0.5461\n",
      "Epoch 11/50\n",
      "90239/90239 [==============================] - 534s 6ms/sample - loss: 2.1559 - acc: 0.5863 - val_loss: 2.8344 - val_acc: 0.5486\n",
      "Epoch 12/50\n",
      "90239/90239 [==============================] - 540s 6ms/sample - loss: 2.0709 - acc: 0.5961 - val_loss: 2.8313 - val_acc: 0.5496\n",
      "Epoch 13/50\n",
      "90239/90239 [==============================] - 541s 6ms/sample - loss: 1.9947 - acc: 0.6056 - val_loss: 2.8219 - val_acc: 0.5520\n",
      "Epoch 14/50\n",
      "90239/90239 [==============================] - 540s 6ms/sample - loss: 1.9247 - acc: 0.6147 - val_loss: 2.8265 - val_acc: 0.5514\n",
      "Epoch 15/50\n",
      "90239/90239 [==============================] - 535s 6ms/sample - loss: 1.8623 - acc: 0.6227 - val_loss: 2.8238 - val_acc: 0.5548\n",
      "Epoch 00015: early stopping\n"
     ]
    }
   ],
   "source": [
    "history=model.fit([x_tr,y_tr[:,:-1]], y_tr.reshape(y_tr.shape[0],y_tr.shape[1], 1)[:,1:] ,epochs=50,callbacks=[es],batch_size=128, validation_data=([x_val,y_val[:,:-1]], y_val.reshape(y_val.shape[0],y_val.shape[1], 1)[:,1:]))"
   ]
  },
  {
   "cell_type": "code",
   "execution_count": 59,
   "id": "0e6ae411",
   "metadata": {},
   "outputs": [
    {
     "data": {
      "image/png": "[encoded data removed]",
      "text/plain": [
       "<Figure size 432x288 with 1 Axes>"
      ]
     },
     "metadata": {
      "needs_background": "light"
     },
     "output_type": "display_data"
    }
   ],
   "source": [
    "from matplotlib import pyplot as plt\n",
    "plt.plot(history.history['loss'], label='train')\n",
    "plt.plot(history.history['val_loss'], label='test')\n",
    "plt.legend()\n",
    "plt.show()"
   ]
  },
  {
   "cell_type": "code",
   "execution_count": 60,
   "id": "c35d7ab7",
   "metadata": {},
   "outputs": [
    {
     "data": {
      "image/png": "[encoded data removed]",
      "text/plain": [
       "<Figure size 432x288 with 1 Axes>"
      ]
     },
     "metadata": {
      "needs_background": "light"
     },
     "output_type": "display_data"
    }
   ],
   "source": [
    "from matplotlib import pyplot as plt\n",
    "plt.plot(history.history['acc'], label='train')\n",
    "plt.plot(history.history['val_acc'], label='test')\n",
    "plt.legend()\n",
    "plt.show()"
   ]
  },
  {
   "cell_type": "code",
   "execution_count": 61,
   "id": "9569db3e",
   "metadata": {},
   "outputs": [],
   "source": [
    "reverse_target_word_index=y_tokenizer.index_word\n",
    "reverse_source_word_index=x_tokenizer.index_word\n",
    "target_word_index=y_tokenizer.word_index"
   ]
  },
  {
   "cell_type": "markdown",
   "id": "2be1dbad",
   "metadata": {},
   "source": [
    "## Inference"
   ]
  },
  {
   "cell_type": "markdown",
   "id": "34db6cdc",
   "metadata": {},
   "source": [
    "Set up the inference for the encoder and decoder:"
   ]
  },
  {
   "cell_type": "code",
   "execution_count": 62,
   "id": "c2088535",
   "metadata": {},
   "outputs": [],
   "source": [
    "# Encode the input sequence to get the feature vector\n",
    "encoder_model = Model(inputs=encoder_inputs,outputs=[encoder_outputs, state_h, state_c])\n",
    "\n",
    "# Decoder setup\n",
    "# Below tensors will hold the states of the previous time step\n",
    "decoder_state_input_h = Input(shape=(latent_dim,))\n",
    "decoder_state_input_c = Input(shape=(latent_dim,))\n",
    "decoder_hidden_state_input = Input(shape=(max_text_len,latent_dim))\n",
    "\n",
    "# Get the embeddings of the decoder sequence\n",
    "dec_emb2= dec_emb_layer(decoder_inputs) \n",
    "# To predict the next word in the sequence, set the initial states to the states from the previous time step\n",
    "decoder_outputs2, state_h2, state_c2 = decoder_lstm(dec_emb2, initial_state=[decoder_state_input_h, decoder_state_input_c])\n",
    "\n",
    "#attention inference\n",
    "attn_out_inf, attn_states_inf = attn_layer([decoder_hidden_state_input, decoder_outputs2])\n",
    "decoder_inf_concat = Concatenate(axis=-1, name='concat')([decoder_outputs2, attn_out_inf])\n",
    "\n",
    "# A dense softmax layer to generate prob dist. over the target vocabulary\n",
    "decoder_outputs2 = decoder_dense(decoder_inf_concat) \n",
    "\n",
    "# Final decoder model\n",
    "decoder_model = Model(\n",
    "    [decoder_inputs] + [decoder_hidden_state_input,decoder_state_input_h, decoder_state_input_c],\n",
    "    [decoder_outputs2] + [state_h2, state_c2])"
   ]
  },
  {
   "cell_type": "code",
   "execution_count": 63,
   "id": "551e4cfd",
   "metadata": {},
   "outputs": [],
   "source": [
    "def decode_sequence(input_seq):\n",
    "    # Encode the input as state vectors.\n",
    "    e_out, e_h, e_c = encoder_model.predict(input_seq)\n",
    "    \n",
    "    # Generate empty target sequence of length 1.\n",
    "    target_seq = np.zeros((1,1))\n",
    "    \n",
    "    # Populate the first word of target sequence with the start word.\n",
    "    target_seq[0, 0] = target_word_index['sostok']\n",
    "\n",
    "    stop_condition = False\n",
    "    decoded_sentence = ''\n",
    "    while not stop_condition:\n",
    "      \n",
    "        output_tokens, h, c = decoder_model.predict([target_seq] + [e_out, e_h, e_c])\n",
    "\n",
    "        # Sample a token\n",
    "        sampled_token_index = np.argmax(output_tokens[0, -1, :])\n",
    "        sampled_token = reverse_target_word_index[sampled_token_index]\n",
    "        \n",
    "        if(sampled_token!='eostok'):\n",
    "            decoded_sentence += ' '+sampled_token\n",
    "\n",
    "        # Exit condition: either hit max length or find stop word.\n",
    "        if (sampled_token == 'eostok'  or len(decoded_sentence.split()) >= (max_summary_len-1)):\n",
    "            stop_condition = True\n",
    "\n",
    "        # Update the target sequence (of length 1).\n",
    "        target_seq = np.zeros((1,1))\n",
    "        target_seq[0, 0] = sampled_token_index\n",
    "\n",
    "        # Update internal states\n",
    "        e_h, e_c = h, c\n",
    "\n",
    "    return decoded_sentence"
   ]
  },
  {
   "cell_type": "code",
   "execution_count": 64,
   "id": "1e5ba346",
   "metadata": {},
   "outputs": [],
   "source": [
    "# below functions converts sequence into texts\n",
    "\n",
    "def seq2summary(input_seq):\n",
    "    newString=''\n",
    "    for i in input_seq:\n",
    "        if((i!=0 and i!=target_word_index['sostok']) and i!=target_word_index['eostok']):\n",
    "            newString=newString+reverse_target_word_index[i]+' '\n",
    "    return newString\n",
    "\n",
    "def seq2text(input_seq):\n",
    "    newString=''\n",
    "    for i in input_seq:\n",
    "        if(i!=0):\n",
    "            newString=newString+reverse_source_word_index[i]+' '\n",
    "    return newString"
   ]
  },
  {
   "cell_type": "code",
   "execution_count": 66,
   "id": "5cac8062",
   "metadata": {},
   "outputs": [
    {
     "name": "stdout",
     "output_type": "stream",
     "text": [
      "Review: the wwe has confirmed the will return to the ring for the first time since wrestlemania in which he lost and left his iconic coat and hat in the sparking retirement he will return on flagship raw anniversary on january who retired in will also attend the \n",
      "Original summary: the to make wwe return on anniversary \n",
      "Predicted summary:  indian to get its first weight\n",
      "\n",
      "\n",
      "Review: as many as three people were killed in riots after dera sacha sauda chief gurmeet ram rahim was convicted of rape by a cbi court on railway station and a petrol pump were set on fire amid clashes between security forces and the reports said over cars were set on \n",
      "Original summary: dead in riots after dera chief ram rahim convicted of rape \n",
      "Predicted summary:  dera sacha sauda follower ram dera dera campus\n",
      "\n",
      "\n",
      "Review: bengaluru police has claimed they have solved cases after arresting a in the named had snatched gold chains of people in and around and had warrants pending against him from different police said they have recovered kg of gold ornaments worth crore and five motorbikes from \n",
      "Original summary: bengaluru police claims solving cases with one arrest \n",
      "Predicted summary:  police officers to get record in mumbai\n",
      "\n",
      "\n",
      "Review: around tonnes of meat sourced from animal carcasses has been seized from an ice factory in while three accused in the case said the meat was mostly of stray dogs and municipal authorities said it will be tested to confirm the the which was chemically treated at was to be sold to \n",
      "Original summary: meat from dog for sale seized in wb \n",
      "Predicted summary:  kg heroin worth seized seized in spain\n",
      "\n",
      "\n",
      "Review: australia gave away five runs as penalty after a ball from nathan lyon hit the helmet on the final day of the fifth test in sydney on the ball slipped past wicketkeeper tim paine before rolling on to hit his helmet placed right behind at the australia were one wicket away from the \n",
      "Original summary: australia handed penalty as ball hits helmet \n",
      "Predicted summary:  england lose test wickets in a test\n",
      "\n",
      "\n",
      "Review: sharing an old poem on twitter which sushant singh rajput had written for his late he day sushant had earlier revealed the poem was his first ever attempt at in another sushant wish with all my could just be able to have one more minute with \n",
      "Original summary: sushant shares old poem he had written for his late mother \n",
      "Predicted summary:  happy to see my abhishek on karvachauth\n",
      "\n",
      "\n",
      "Review: sports minister vijay goel conducted a surprise check at indira gandhi venue of the asian wrestling and cleaned the toilet himself after finding it visit came after international wrestlers reportedly complained about dirty saying they had to relieve themselves in the goel also pulled up sports authority of india officials at the \n",
      "Original summary: sports minister goel cleans toilet at wrestling venue \n",
      "Predicted summary:  minister throws sports minister rathore at mumbai airport\n",
      "\n",
      "\n",
      "Review: there are no and shiv sena members in the list of new ministers who were inducted into the union cabinet on this was because the bjp leadership was unable to come up with a formula for representation which could satisfy all according to shiv sena has three members in the rajya while has \n",
      "Original summary: no shiv sena names in list of new union ministers \n",
      "Predicted summary:  shiv sena launches portal for comparing to shiv sena\n",
      "\n",
      "\n",
      "Review: netflix on tuesday confirmed continue its association with anurag vikramaditya motwane and writer varun grover for season they added they carried out an independent investigation and are satisfied with the while varun was accused of sexual kashyap and motwane were criticised for their alleged inaction over allegations against their business partner vikas \n",
      "Original summary: netflix to continue working with anurag kashyap for sacred games \n",
      "Predicted summary:  netflix fires kevin spacey as he is anurag kashyap\n",
      "\n",
      "\n",
      "Review: a group of labourers living at a makeshift settlement near on friday travelled over km to reach their respective polling stations to cast the labourers who otherwise travel in bullock carts to arranged for private vehicles to reach the polling have to shows my one of the labourers \n",
      "Original summary: labourers travel km to vote for telangana elections \n",
      "Predicted summary:  labourers climb to build beer in telangana\n",
      "\n",
      "\n",
      "Review: mohammad wife hasin jahan has shared screenshots of the alleged chat with an african woman with the ki in the comment jahan ko v nhi tha this comes two days after shami was awarded a contract by the bcci after clearing him of corruption \n",
      "Original summary: wali ko bhi nahin wife hasin jahan \n",
      "Predicted summary:  wife accuses wife of wife wanting to marry him\n",
      "\n",
      "\n",
      "Review: the outgoing indian air force chief raha on wednesday said the worst moment during his tenure was when he heard about an plane going missing with personnel on citing that the iaf undertook over flying hours to search for the raha termed it as a mistake of not fitting with underwater \n",
      "Original summary: missing plane my worst moment in iaf chief \n",
      "Predicted summary:  iaf chief pilot cancels flight visit\n",
      "\n",
      "\n",
      "Review: the passport of billionaire jeweller nirav modi has been revoked in connection with the pnb lawyer vijay aggarwal has the ministry of external affairs had served a notice to nirav modi seeking response as to why his passport be nirav reportedly replied to the notice raising objections on the notice issued to \n",
      "Original summary: nirav passport revoked over pnb fraud \n",
      "Predicted summary:  nirav modi pnb pnb fraud in pnb fraud case\n",
      "\n",
      "\n",
      "Review: sonu who will be portraying the villain in said that his role is very grey character gets the job is added sood all here to entertain you and sure you will be he further produced by karan the rohit shetty directorial is scheduled to release on december \n",
      "Original summary: playing villain in is very sonu sood \n",
      "Predicted summary:  sonu sood to make comeback with sonu\n",
      "\n",
      "\n",
      "Review: at annual shareholder james asked the ceo mark zuckerberg to george not vladimir at the meeting where shareholders proposed to limit called current a shares have times the voting power of that available to regular \n",
      "Original summary: copy not shareholder to facebook ceo \n",
      "Predicted summary:  ceo sikka resigns from tata steel ceo\n",
      "\n",
      "\n",
      "Review: expressing displeasure over supreme recent ban on sale of firecrackers in delhi and tripura governor tathagata roy on tuesday remarked that the will soon file pleas against hindu roy added that as a practising he was not happy with the ban since it deprived the community of an important aspect of \n",
      "Original summary: soon there will be plea against hindu tripura guv \n",
      "Predicted summary:  sc order to ban on tobacco sale of unity\n",
      "\n",
      "\n",
      "Review: the vaishno devi cave shrine pilgrimage has been suspended from the katra base camp due to heavy rush of officials said the ticket counter had to be closed nearly two hours before scheduled closure due to a huge number of around pilgrims are stranded at the katra base officials further \n",
      "Original summary: vaishno devi pilgrimage suspended due to heavy crowd \n",
      "Predicted summary:  bus service connecting to be suspended\n",
      "\n",
      "\n",
      "Review: reacting to naseeruddin statement that he fears for his safety in paresh rawal not right to say not worth living i keep but not right to paresh to bulandshahr shah had said a death is more significant than that of a \n",
      "Original summary: not right to say india not worth living rawal on remark \n",
      "Predicted summary:  i am not a not a rajinikanth\n",
      "\n",
      "\n",
      "Review: flying car startup kitty ceo sebastian thrun in a recent interview admire indian people but i admire the traffic in adding that kitty vision is that people will be able to travel in the air daily in the he also that there be any traffic in the \n",
      "Original summary: i indians but not traffic in kitty hawk ceo \n",
      "Predicted summary:  startup ceo steps down after years\n",
      "\n",
      "\n",
      "Review: olympic gold winner usain bolt posted his first sub metre sprint time of the year at the monaco diamond league meeting on the who went to germany to have treatment for back issues he had for clocked winning the race by of a \n",
      "Original summary: bolt runs race in under sec for first time this year \n",
      "Predicted summary:  usain bolt breaks world record for the first time\n",
      "\n",
      "\n",
      "Review: comedian krushna who became a father to twin has revealed that salman khan was among those who counselled him about having was one of the first stars i told about my he krushna further said when he first saw the he know how to react and was scared to pick them \n",
      "Original summary: salman me about having krushna abhishek \n"
     ]
    },
    {
     "name": "stdout",
     "output_type": "stream",
     "text": [
      "Predicted summary:  salman khan is a salman khan\n",
      "\n",
      "\n",
      "Review: most valuable bank jpmorgan ceo jamie dimon the us truly an exceptional and is clear that something is in a letter to dimon wrote us has dumped trillions of dollars into wars and piled huge debt onto us has forced foreigners to leave after getting advanced he \n",
      "Original summary: clearly something is wrong with says jpmorgan ceo \n",
      "Predicted summary:  clearly something is a billionaire soros\n",
      "\n",
      "\n",
      "Review: tweeting his picture with singer and youtuber vidya iyer as vidya actor hrithik roshan vox is in the my what do i such a vidya is known for mixing western electronic dance music and indian classical she also shared the pictures while dreams come \n",
      "Original summary: such a hrithik on vidya \n",
      "Predicted summary:  hrithik is a hrithik on her roka\n",
      "\n",
      "\n",
      "Review: singer katy during her ongoing live stream on has said that she singer taylor swift and is sorry for anything she ever did while hope the same from while addressing her feud with further can be representatives of strong women that come together despite their \n",
      "Original summary: i forgive sorry for anything i says katy perry \n",
      "Predicted summary:  katy perry reveals she is miss universe\n",
      "\n",
      "\n",
      "Review: rape convict gurmeet ram adopted daughter honeypreet and others in their confessions revealed that honeypreet planned to settle down in a foreign country with ram rahim after his escape post they further revealed they wanted to indulge in after settling down and avenge ram arrest by out from the \n",
      "Original summary: honeypreet planned to settle abroad with ram rahim \n",
      "Predicted summary:  honeypreet panchkula honeypreet granted bail\n",
      "\n",
      "\n",
      "Review: latest update for its virtual assistant allows users to disable the dedicated bixby button in galaxy plus and note the which requires the latest version of bixby and bixby will stop bixby home from opening when the button is it will still be accessible by the \n",
      "Original summary: samsung lets users dedicated button \n",
      "Predicted summary:  oneplus to notify users to unlock ads from report\n",
      "\n",
      "\n",
      "Review: addressing a rally in prime minister narendra modi asked why former pm manmohan singh show the courage to order a surgical strike post the mumbai terror the air force had approached singh with a plan for surgical strikes post the attacks but the government did not show the courage to order pm modi \n",
      "Original summary: why order surgical strikes post asks pm \n",
      "Predicted summary:  surgical strikes emerge surgical strikes in pm modi\n",
      "\n",
      "\n",
      "Review: congratulating the indian cricket team after india became the first asian team to win a test series in anushka sharma posted pictures of team india and written and created by this farhan akhtar also to virat kohli and team india for finally breaking through the aussie historic tweeted anil \n",
      "Original summary: history anushka on test series win in australia \n",
      "Predicted summary:  india need to win a series with anushka\n",
      "\n",
      "\n",
      "Review: the supreme court on tuesday observed that hotels and restaurants were not bound by the maximum retail price for selling bottled earlier the same the centre had told the sc that selling bottled mineral water above mrp would attract monetary penalty and jail term for the management of it claimed overcharging would lead to tax \n",
      "Original summary: restaurants not bound by mrp in selling bottled sc \n",
      "Predicted summary:  sc orders plan to sell bottled water to sell packaged products\n",
      "\n",
      "\n",
      "Review: the indian air force has filed an fir against unknown persons for creating a fake iaf website and duping job wing commander singh had found and reported the which claimed that recruitment for iaf was on and had downloadable application were different options to make payment for the singh n \n",
      "Original summary: iaf files fir over fake website duping job seekers \n",
      "Predicted summary:  fir against iaf officials over fake fir\n",
      "\n",
      "\n"
     ]
    }
   ],
   "source": [
    "for i in range(30):\n",
    "    print(\"Review:\",seq2text(x_tr[i]))\n",
    "    print(\"Original summary:\",seq2summary(y_tr[i]))\n",
    "    print(\"Predicted summary:\",decode_sequence(x_tr[i].reshape(1,max_text_len)))\n",
    "    print(\"\\n\")"
   ]
  },
  {
   "cell_type": "markdown",
   "id": "d9167e0c",
   "metadata": {},
   "source": [
    "## Limitations"
   ]
  },
  {
   "cell_type": "markdown",
   "id": "0a1a804d",
   "metadata": {},
   "source": [
    "Our biggest limitation was the lack of time left after finishing the implementation\n",
    "of our attentive encode-decoder RNN model. For lack of a better word, abstractive\n",
    "summarization is a messy task – training and truth data are not well-aligned, compared to the near one-to-one alignment for machine translation."
   ]
  },
  {
   "cell_type": "markdown",
   "id": "5ee5d6ea",
   "metadata": {},
   "source": [
    "## Results"
   ]
  },
  {
   "cell_type": "markdown",
   "id": "0f216e00",
   "metadata": {},
   "source": [
    "We successfully managed to implement the attentive encoder-decoder RNN\n",
    "summarizer. As you can see the predicted summaries do not match in terms of words with actual summaries. But in most of the cases both will convey same meaning. The model has it flaws like it generates same words in a sequence."
   ]
  }
 ],
 "metadata": {
  "kernelspec": {
   "display_name": "Python 3",
   "language": "python",
   "name": "python3"
  },
  "language_info": {
   "codemirror_mode": {
    "name": "ipython",
    "version": 3
   },
   "file_extension": ".py",
   "mimetype": "text/x-python",
   "name": "python",
   "nbconvert_exporter": "python",
   "pygments_lexer": "ipython3",
   "version": "3.6.13"
  },
  "vscode": {
   "interpreter": {
    "hash": "15982de9ef07d49ca26cdffe937ab9b96dac0fd348fa6aba314f0d9731c21e86"
   }
  }
 },
 "nbformat": 4,
 "nbformat_minor": 5
}
